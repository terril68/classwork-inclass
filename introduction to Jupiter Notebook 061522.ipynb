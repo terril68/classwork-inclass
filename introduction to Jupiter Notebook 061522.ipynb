{
 "cells": [
  {
   "cell_type": "code",
   "execution_count": 1,
   "id": "03e279ef",
   "metadata": {},
   "outputs": [
    {
     "data": {
      "text/plain": [
       "7"
      ]
     },
     "execution_count": 1,
     "metadata": {},
     "output_type": "execute_result"
    }
   ],
   "source": [
    "7"
   ]
  },
  {
   "cell_type": "code",
   "execution_count": 2,
   "id": "760649d6",
   "metadata": {},
   "outputs": [
    {
     "data": {
      "text/plain": [
       "49"
      ]
     },
     "execution_count": 2,
     "metadata": {},
     "output_type": "execute_result"
    }
   ],
   "source": [
    "7*7"
   ]
  },
  {
   "cell_type": "code",
   "execution_count": 3,
   "id": "99e58a1d",
   "metadata": {},
   "outputs": [
    {
     "name": "stdout",
     "output_type": "stream",
     "text": [
      "7\n"
     ]
    },
    {
     "data": {
      "text/plain": [
       "49"
      ]
     },
     "execution_count": 3,
     "metadata": {},
     "output_type": "execute_result"
    }
   ],
   "source": [
    "print (7)\n",
    "7*7"
   ]
  },
  {
   "cell_type": "code",
   "execution_count": 4,
   "id": "d2cc2d79",
   "metadata": {},
   "outputs": [
    {
     "name": "stdout",
     "output_type": "stream",
     "text": [
      "7\n",
      "49\n"
     ]
    }
   ],
   "source": [
    "print (7)\n",
    "print (7*7)"
   ]
  },
  {
   "cell_type": "code",
   "execution_count": 5,
   "id": "93fa84bf",
   "metadata": {},
   "outputs": [
    {
     "name": "stdout",
     "output_type": "stream",
     "text": [
      "Liu\n"
     ]
    }
   ],
   "source": [
    "name=\"Liu\"\n",
    "print (name)"
   ]
  },
  {
   "cell_type": "markdown",
   "id": "0f87b661",
   "metadata": {},
   "source": [
    "name"
   ]
  },
  {
   "cell_type": "code",
   "execution_count": null,
   "id": "21ffcde6",
   "metadata": {},
   "outputs": [],
   "source": [
    "#I had number = 3, ran the cell, deleted it, then ran the cell again"
   ]
  },
  {
   "cell_type": "code",
   "execution_count": null,
   "id": "9e218b5b",
   "metadata": {},
   "outputs": [],
   "source": []
  },
  {
   "cell_type": "code",
   "execution_count": 6,
   "id": "fb4ff5ed",
   "metadata": {
    "scrolled": true
   },
   "outputs": [
    {
     "ename": "NameError",
     "evalue": "name 'number' is not defined",
     "output_type": "error",
     "traceback": [
      "\u001b[0;31m---------------------------------------------------------------------------\u001b[0m",
      "\u001b[0;31mNameError\u001b[0m                                 Traceback (most recent call last)",
      "Input \u001b[0;32mIn [6]\u001b[0m, in \u001b[0;36m<cell line: 1>\u001b[0;34m()\u001b[0m\n\u001b[0;32m----> 1\u001b[0m \u001b[43mnumber\u001b[49m \u001b[38;5;241m*\u001b[39m number\n",
      "\u001b[0;31mNameError\u001b[0m: name 'number' is not defined"
     ]
    }
   ],
   "source": [
    "number * number"
   ]
  },
  {
   "cell_type": "markdown",
   "id": "2f1f7fd6",
   "metadata": {},
   "source": [
    "## Solutions to the homework\n",
    "\n",
    "We're getting our data from [the Pokemon API](https://pokeapi.co).\n",
    "\n",
    "### Problem 6: Korean names\n",
    "\n",
    "_This is a sentence all about what we're going to be doing below._ We're going to be seeing how **electric pokemon are called in Korean.**\n",
    "\n",
    "This is how you make a request to an API:\n",
    "\n",
    "```python\n",
    "import requests\n",
    "\n",
    "url = \"blah blah blah your URL\"\n",
    "response = requests.get(url)\n",
    "data = response.json()\n",
    "```"
   ]
  },
  {
   "cell_type": "code",
   "execution_count": 7,
   "id": "cb745d39",
   "metadata": {},
   "outputs": [],
   "source": [
    "import requests\n",
    "\n",
    "url = \"https://pokeapi.co/api/v2/type/electric/\"\n",
    "response = requests.get(url)\n",
    "data = response.json()"
   ]
  },
  {
   "cell_type": "code",
   "execution_count": 9,
   "id": "b56060c9",
   "metadata": {},
   "outputs": [
    {
     "data": {
      "text/plain": [
       "dict_keys(['damage_relations', 'game_indices', 'generation', 'id', 'move_damage_class', 'moves', 'name', 'names', 'past_damage_relations', 'pokemon'])"
      ]
     },
     "execution_count": 9,
     "metadata": {},
     "output_type": "execute_result"
    }
   ],
   "source": [
    "data.keys()"
   ]
  },
  {
   "cell_type": "code",
   "execution_count": 10,
   "id": "ce9833b3",
   "metadata": {},
   "outputs": [
    {
     "data": {
      "text/plain": [
       "[{'language': {'name': 'ja-Hrkt',\n",
       "   'url': 'https://pokeapi.co/api/v2/language/1/'},\n",
       "  'name': 'でんき'},\n",
       " {'language': {'name': 'ko', 'url': 'https://pokeapi.co/api/v2/language/3/'},\n",
       "  'name': '전기'},\n",
       " {'language': {'name': 'zh-Hant',\n",
       "   'url': 'https://pokeapi.co/api/v2/language/4/'},\n",
       "  'name': '電'},\n",
       " {'language': {'name': 'fr', 'url': 'https://pokeapi.co/api/v2/language/5/'},\n",
       "  'name': 'Électrik'},\n",
       " {'language': {'name': 'de', 'url': 'https://pokeapi.co/api/v2/language/6/'},\n",
       "  'name': 'Elektro'},\n",
       " {'language': {'name': 'es', 'url': 'https://pokeapi.co/api/v2/language/7/'},\n",
       "  'name': 'Eléctrico'},\n",
       " {'language': {'name': 'it', 'url': 'https://pokeapi.co/api/v2/language/8/'},\n",
       "  'name': 'Elettro'},\n",
       " {'language': {'name': 'en', 'url': 'https://pokeapi.co/api/v2/language/9/'},\n",
       "  'name': 'Electric'},\n",
       " {'language': {'name': 'ja', 'url': 'https://pokeapi.co/api/v2/language/11/'},\n",
       "  'name': 'でんき'},\n",
       " {'language': {'name': 'zh-Hans',\n",
       "   'url': 'https://pokeapi.co/api/v2/language/12/'},\n",
       "  'name': '电'}]"
      ]
     },
     "execution_count": 10,
     "metadata": {},
     "output_type": "execute_result"
    }
   ],
   "source": [
    "#tried data['name'], which is just English names\n",
    "data['names']"
   ]
  },
  {
   "cell_type": "code",
   "execution_count": 11,
   "id": "9e6dffa5",
   "metadata": {},
   "outputs": [
    {
     "data": {
      "text/plain": [
       "{'language': {'name': 'ja-Hrkt',\n",
       "  'url': 'https://pokeapi.co/api/v2/language/1/'},\n",
       " 'name': 'でんき'}"
      ]
     },
     "execution_count": 11,
     "metadata": {},
     "output_type": "execute_result"
    }
   ],
   "source": [
    "data['names'][0]"
   ]
  },
  {
   "cell_type": "code",
   "execution_count": 16,
   "id": "584e31ff",
   "metadata": {},
   "outputs": [
    {
     "data": {
      "text/plain": [
       "'전기'"
      ]
     },
     "execution_count": 16,
     "metadata": {},
     "output_type": "execute_result"
    }
   ],
   "source": [
    "data['names'][1]['name']"
   ]
  },
  {
   "cell_type": "code",
   "execution_count": 19,
   "id": "d07f3b8f",
   "metadata": {},
   "outputs": [
    {
     "name": "stdout",
     "output_type": "stream",
     "text": [
      "I FOUND IT\n",
      "전기\n"
     ]
    }
   ],
   "source": [
    "#maybe the above is not ideal\n",
    "# {\n",
    "#     'language': {\n",
    "#         'name': 'ja-Hrkt',\n",
    "#         'url': 'https://pokeapi.co/api/v2/language/1/'\n",
    "#     },\n",
    "#     'name': 'でんき'\n",
    "# }\n",
    "\n",
    "for name in data['names']:\n",
    "    # print(\"---------\")\n",
    "    # print(name)\n",
    "    # print(name['language']['name'])\n",
    "    # name['name'] is name of the type, not the\n",
    "    # name of the language\n",
    "    if name['language']['name'] == 'ko':\n",
    "        print(\"I FOUND IT\")\n",
    "        print(name['name'])"
   ]
  },
  {
   "cell_type": "code",
   "execution_count": 22,
   "id": "f42fffce",
   "metadata": {},
   "outputs": [],
   "source": [
    "url = \"https://pokeapi.co/api/v2/pokemon/pikachu/\"\n",
    "response = requests.get(url)\n",
    "data = response.json()"
   ]
  },
  {
   "cell_type": "code",
   "execution_count": 23,
   "id": "5bbb95be",
   "metadata": {},
   "outputs": [
    {
     "data": {
      "text/plain": [
       "[{'base_stat': 35,\n",
       "  'effort': 0,\n",
       "  'stat': {'name': 'hp', 'url': 'https://pokeapi.co/api/v2/stat/1/'}},\n",
       " {'base_stat': 55,\n",
       "  'effort': 0,\n",
       "  'stat': {'name': 'attack', 'url': 'https://pokeapi.co/api/v2/stat/2/'}},\n",
       " {'base_stat': 40,\n",
       "  'effort': 0,\n",
       "  'stat': {'name': 'defense', 'url': 'https://pokeapi.co/api/v2/stat/3/'}},\n",
       " {'base_stat': 50,\n",
       "  'effort': 0,\n",
       "  'stat': {'name': 'special-attack',\n",
       "   'url': 'https://pokeapi.co/api/v2/stat/4/'}},\n",
       " {'base_stat': 50,\n",
       "  'effort': 0,\n",
       "  'stat': {'name': 'special-defense',\n",
       "   'url': 'https://pokeapi.co/api/v2/stat/5/'}},\n",
       " {'base_stat': 90,\n",
       "  'effort': 2,\n",
       "  'stat': {'name': 'speed', 'url': 'https://pokeapi.co/api/v2/stat/6/'}}]"
      ]
     },
     "execution_count": 23,
     "metadata": {},
     "output_type": "execute_result"
    }
   ],
   "source": [
    "data['stats']"
   ]
  },
  {
   "cell_type": "code",
   "execution_count": 24,
   "id": "89d530ca",
   "metadata": {},
   "outputs": [
    {
     "data": {
      "text/plain": [
       "{'base_stat': 90,\n",
       " 'effort': 2,\n",
       " 'stat': {'name': 'speed', 'url': 'https://pokeapi.co/api/v2/stat/6/'}}"
      ]
     },
     "execution_count": 24,
     "metadata": {},
     "output_type": "execute_result"
    }
   ],
   "source": [
    "data['stats'][-1]"
   ]
  },
  {
   "cell_type": "code",
   "execution_count": 25,
   "id": "9a0eb489",
   "metadata": {},
   "outputs": [
    {
     "name": "stdout",
     "output_type": "stream",
     "text": [
      "-----\n",
      "-----\n",
      "-----\n",
      "-----\n",
      "-----\n",
      "-----\n",
      "FOUND SPEED!!!\n",
      "90\n"
     ]
    }
   ],
   "source": [
    "for stat in data['stats']:\n",
    "    print(\"-----\")\n",
    "    if stat['stat']['name'] == 'speed':\n",
    "        print(\"FOUND SPEED!!!\")\n",
    "        # print(stat)\n",
    "        print(stat['base_stat'])"
   ]
  },
  {
   "cell_type": "code",
   "execution_count": null,
   "id": "e46c9b15",
   "metadata": {},
   "outputs": [],
   "source": []
  }
 ],
 "metadata": {
  "kernelspec": {
   "display_name": "Python 3 (ipykernel)",
   "language": "python",
   "name": "python3"
  },
  "language_info": {
   "codemirror_mode": {
    "name": "ipython",
    "version": 3
   },
   "file_extension": ".py",
   "mimetype": "text/x-python",
   "name": "python",
   "nbconvert_exporter": "python",
   "pygments_lexer": "ipython3",
   "version": "3.10.3"
  }
 },
 "nbformat": 4,
 "nbformat_minor": 5
}
